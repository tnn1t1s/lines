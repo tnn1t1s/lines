{
 "cells": [
  {
   "cell_type": "code",
   "execution_count": 2,
   "id": "97d4dde5",
   "metadata": {},
   "outputs": [],
   "source": [
    "import os\n",
    "from huggingface_hub import login, whoami"
   ]
  },
  {
   "cell_type": "code",
   "execution_count": 54,
   "id": "ab26d674",
   "metadata": {},
   "outputs": [],
   "source": [
    "user = 'tnn1t1s'\n",
    "uid = whoami(token=os.environ.get('HF_TOKEN'))"
   ]
  },
  {
   "cell_type": "markdown",
   "id": "3a3d74e2",
   "metadata": {},
   "source": [
    "## Developing, hosting and building UI for custom pytorch models"
   ]
  },
  {
   "cell_type": "markdown",
   "id": "dc1c70a6",
   "metadata": {},
   "source": [
    "Reference:\n",
    "    - https://huggingface.co/docs/huggingface_hub/v0.20.3/en/package_reference/mixins#huggingface_hub.PyTorchModelHubMixin"
   ]
  },
  {
   "cell_type": "code",
   "execution_count": 10,
   "id": "82d4bee6",
   "metadata": {},
   "outputs": [],
   "source": [
    "import torch\n",
    "import torch.nn as nn\n",
    "from huggingface_hub import PyTorchModelHubMixin"
   ]
  },
  {
   "cell_type": "markdown",
   "id": "fa93cd36",
   "metadata": {},
   "source": [
    "### write a simple model"
   ]
  },
  {
   "cell_type": "code",
   "execution_count": 56,
   "id": "f62deeae",
   "metadata": {},
   "outputs": [],
   "source": [
    "import torch\n",
    "import torch.nn as nn\n",
    "\n",
    "class StraightLineModel(nn.Module, PyTorchModelHubMixin):\n",
    "    def __init__(self):\n",
    "        super(StraightLineModel, self).__init__()\n",
    "        # Define a linear layer with 1 input and 1 output, and no bias\n",
    "        self.linear = nn.Linear(1, 1, bias=False)\n",
    "\n",
    "    def forward(self, x):\n",
    "        # Forward pass through the linear layer\n",
    "        return self.linear(x)\n",
    "\n",
    "# Create an instance of the model\n",
    "model = StraightLineModel()\n",
    "\n",
    "# Optionally, you can initialize the weight to a specific slope 'm'\n",
    "with torch.no_grad():\n",
    "    model.linear.weight.fill_(2)  # Replace 'm' with your desired slope\n"
   ]
  },
  {
   "cell_type": "markdown",
   "id": "e3e781ce",
   "metadata": {},
   "source": [
    "### try the model"
   ]
  },
  {
   "cell_type": "code",
   "execution_count": 57,
   "id": "1e99532d",
   "metadata": {},
   "outputs": [
    {
     "data": {
      "text/plain": [
       "(tensor([5.]), tensor([10.], grad_fn=<SqueezeBackward4>))"
      ]
     },
     "execution_count": 57,
     "metadata": {},
     "output_type": "execute_result"
    }
   ],
   "source": [
    "\n",
    "x_values = torch.tensor([5], dtype=torch.float32)\n",
    "y_values = model.forward(x_values)\n",
    "\n",
    "(x_values, y_values)\n"
   ]
  },
  {
   "cell_type": "markdown",
   "id": "8cb18f54",
   "metadata": {},
   "source": [
    "### push the model to hub"
   ]
  },
  {
   "cell_type": "code",
   "execution_count": 58,
   "id": "6d63d40b",
   "metadata": {},
   "outputs": [
    {
     "data": {
      "application/vnd.jupyter.widget-view+json": {
       "model_id": "ad06c8be67e14643ba222a86267eee9a",
       "version_major": 2,
       "version_minor": 0
      },
      "text/plain": [
       "pytorch_model.bin:   0%|          | 0.00/893 [00:00<?, ?B/s]"
      ]
     },
     "metadata": {},
     "output_type": "display_data"
    },
    {
     "data": {
      "application/vnd.jupyter.widget-view+json": {
       "model_id": "6931dd1732d04581ba910d668bec8f63",
       "version_major": 2,
       "version_minor": 0
      },
      "text/plain": [
       "pytorch_model.bin:   0%|          | 0.00/893 [00:00<?, ?B/s]"
      ]
     },
     "metadata": {},
     "output_type": "display_data"
    }
   ],
   "source": [
    "model_name = 'lines'\n",
    "model.save_pretrained(model_name)\n",
    "\n",
    "# Push model weights to the Hub\n",
    "model.push_to_hub(model_name)\n"
   ]
  },
  {
   "cell_type": "markdown",
   "id": "e8bece84",
   "metadata": {},
   "source": [
    "### use the model from the hub"
   ]
  },
  {
   "cell_type": "code",
   "execution_count": 59,
   "id": "6156ecf6",
   "metadata": {},
   "outputs": [],
   "source": [
    "hub_model = StraightLineModel.from_pretrained(f\"{user}/{model_name}\")"
   ]
  },
  {
   "cell_type": "code",
   "execution_count": 61,
   "id": "52f7df30",
   "metadata": {},
   "outputs": [
    {
     "data": {
      "text/plain": [
       "tensor([10.], grad_fn=<SqueezeBackward4>)"
      ]
     },
     "execution_count": 61,
     "metadata": {},
     "output_type": "execute_result"
    }
   ],
   "source": [
    "hub_model.forward(torch.tensor([5], dtype=torch.float32))"
   ]
  },
  {
   "cell_type": "markdown",
   "id": "78963055",
   "metadata": {},
   "source": [
    "### draw a a line using the model"
   ]
  },
  {
   "cell_type": "code",
   "execution_count": 64,
   "id": "a64eccb1",
   "metadata": {},
   "outputs": [
    {
     "data": {
      "image/png": "[encoded data removed]",
      "text/plain": [
       "<Figure size 640x480 with 1 Axes>"
      ]
     },
     "metadata": {},
     "output_type": "display_data"
    }
   ],
   "source": [
    "import matplotlib.pyplot as plt\n",
    "%matplotlib inline\n",
    "\n",
    "\n",
    "def plot_line(model, start, end, steps=100):\n",
    "    # Generate a range of x values from start to end\n",
    "    x_values = torch.linspace(start, end, steps).view(-1, 1)\n",
    "\n",
    "    # Use the model to predict y values\n",
    "    with torch.no_grad():  # We don't need to track gradients here\n",
    "        y_values = model(x_values)\n",
    "\n",
    "    # Convert tensors to numpy arrays for plotting\n",
    "    x_values = x_values.numpy()\n",
    "    y_values = y_values.numpy()\n",
    "\n",
    "    # Plotting\n",
    "    plt.plot(x_values, y_values, label='Model Prediction')\n",
    "    plt.xlabel('x')\n",
    "    plt.ylabel('y')\n",
    "    plt.title('Line Plot using StraightLineModel')\n",
    "    plt.legend()\n",
    "    plt.show()\n",
    "\n",
    "# Plot the line from 0 to 10\n",
    "plot_line(model, 0, 10)\n"
   ]
  }
 ],
 "metadata": {
  "kernelspec": {
   "display_name": "Python 3 (ipykernel)",
   "language": "python",
   "name": "python3"
  },
  "language_info": {
   "codemirror_mode": {
    "name": "ipython",
    "version": 3
   },
   "file_extension": ".py",
   "mimetype": "text/x-python",
   "name": "python",
   "nbconvert_exporter": "python",
   "pygments_lexer": "ipython3",
   "version": "3.11.5"
  }
 },
 "nbformat": 4,
 "nbformat_minor": 5
}
