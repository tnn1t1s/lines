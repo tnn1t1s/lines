{
 "cells": [
  {
   "cell_type": "code",
   "execution_count": 2,
   "id": "e02a32fd",
   "metadata": {},
   "outputs": [],
   "source": [
    "import os\n",
    "from huggingface_hub import login, whoami"
   ]
  },
  {
   "cell_type": "code",
   "execution_count": 54,
   "id": "f5032ba3",
   "metadata": {},
   "outputs": [],
   "source": [
    "user = 'tnn1t1s'\n",
    "uid = whoami(token=os.environ.get('HF_TOKEN'))"
   ]
  },
  {
   "cell_type": "markdown",
   "id": "e558e963",
   "metadata": {},
   "source": [
    "## Developing, hosting and building UI for custom pytorch models"
   ]
  },
  {
   "cell_type": "markdown",
   "id": "61975d6c",
   "metadata": {},
   "source": [
    "Reference:\n",
    "    - https://huggingface.co/docs/huggingface_hub/v0.20.3/en/package_reference/mixins#huggingface_hub.PyTorchModelHubMixin"
   ]
  },
  {
   "cell_type": "code",
   "execution_count": 10,
   "id": "4d0073e4",
   "metadata": {},
   "outputs": [],
   "source": [
    "import torch\n",
    "import torch.nn as nn\n",
    "from huggingface_hub import PyTorchModelHubMixin"
   ]
  },
  {
   "cell_type": "markdown",
   "id": "b2a76110",
   "metadata": {},
   "source": [
    "### write a simple model"
   ]
  },
  {
   "cell_type": "code",
   "execution_count": 56,
   "id": "4445666a",
   "metadata": {},
   "outputs": [],
   "source": [
    "import torch\n",
    "import torch.nn as nn\n",
    "\n",
    "class StraightLineModel(nn.Module, PyTorchModelHubMixin):\n",
    "    def __init__(self):\n",
    "        super(StraightLineModel, self).__init__()\n",
    "        # Define a linear layer with 1 input and 1 output, and no bias\n",
    "        self.linear = nn.Linear(1, 1, bias=False)\n",
    "\n",
    "    def forward(self, x):\n",
    "        # Forward pass through the linear layer\n",
    "        return self.linear(x)\n",
    "\n",
    "# Create an instance of the model\n",
    "model = StraightLineModel()\n",
    "\n",
    "# Optionally, you can initialize the weight to a specific slope 'm'\n",
    "with torch.no_grad():\n",
    "    model.linear.weight.fill_(2)  # Replace 'm' with your desired slope\n"
   ]
  },
  {
   "cell_type": "markdown",
   "id": "6ac37a30",
   "metadata": {},
   "source": [
    "### try the model"
   ]
  },
  {
   "cell_type": "code",
   "execution_count": 57,
   "id": "56aec9d7",
   "metadata": {},
   "outputs": [
    {
     "data": {
      "text/plain": [
       "(tensor([5.]), tensor([10.], grad_fn=<SqueezeBackward4>))"
      ]
     },
     "execution_count": 57,
     "metadata": {},
     "output_type": "execute_result"
    }
   ],
   "source": [
    "\n",
    "x_values = torch.tensor([5], dtype=torch.float32)\n",
    "y_values = model.forward(x_values)\n",
    "\n",
    "(x_values, y_values)\n"
   ]
  },
  {
   "cell_type": "markdown",
   "id": "ade0f0f5",
   "metadata": {},
   "source": [
    "### push the model to hub"
   ]
  },
  {
   "cell_type": "code",
   "execution_count": 58,
   "id": "c7b2f980",
   "metadata": {},
   "outputs": [
    {
     "data": {
      "application/vnd.jupyter.widget-view+json": {
       "model_id": "ad06c8be67e14643ba222a86267eee9a",
       "version_major": 2,
       "version_minor": 0
      },
      "text/plain": [
       "pytorch_model.bin:   0%|          | 0.00/893 [00:00<?, ?B/s]"
      ]
     },
     "metadata": {},
     "output_type": "display_data"
    },
    {
     "data": {
      "application/vnd.jupyter.widget-view+json": {
       "model_id": "6931dd1732d04581ba910d668bec8f63",
       "version_major": 2,
       "version_minor": 0
      },
      "text/plain": [
       "pytorch_model.bin:   0%|          | 0.00/893 [00:00<?, ?B/s]"
      ]
     },
     "metadata": {},
     "output_type": "display_data"
    }
   ],
   "source": [
    "model_name = 'lines'\n",
    "model.save_pretrained(model_name)\n",
    "\n",
    "# Push model weights to the Hub\n",
    "model.push_to_hub(model_name)\n"
   ]
  },
  {
   "cell_type": "markdown",
   "id": "53e6fc69",
   "metadata": {},
   "source": [
    "### use the model from the hub"
   ]
  },
  {
   "cell_type": "code",
   "execution_count": 59,
   "id": "286ba47c",
   "metadata": {},
   "outputs": [],
   "source": [
    "hub_model = StraightLineModel.from_pretrained(f\"{user}/{model_name}\")"
   ]
  },
  {
   "cell_type": "code",
   "execution_count": 61,
   "id": "a06190b0",
   "metadata": {},
   "outputs": [
    {
     "data": {
      "text/plain": [
       "tensor([10.], grad_fn=<SqueezeBackward4>)"
      ]
     },
     "execution_count": 61,
     "metadata": {},
     "output_type": "execute_result"
    }
   ],
   "source": [
    "hub_model.forward(torch.tensor([5], dtype=torch.float32))"
   ]
  },
  {
   "cell_type": "code",
   "execution_count": 62,
   "id": "28f68941",
   "metadata": {},
   "outputs": [],
   "source": [
    "### drawa a line from the model"
   ]
  }
 ],
 "metadata": {
  "kernelspec": {
   "display_name": "Python 3 (ipykernel)",
   "language": "python",
   "name": "python3"
  },
  "language_info": {
   "codemirror_mode": {
    "name": "ipython",
    "version": 3
   },
   "file_extension": ".py",
   "mimetype": "text/x-python",
   "name": "python",
   "nbconvert_exporter": "python",
   "pygments_lexer": "ipython3",
   "version": "3.11.5"
  }
 },
 "nbformat": 4,
 "nbformat_minor": 5
}
