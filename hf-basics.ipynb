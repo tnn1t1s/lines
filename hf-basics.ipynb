{
 "cells": [
  {
   "cell_type": "markdown",
   "id": "29572a03",
   "metadata": {},
   "source": [
    "# Learning HuggingFace "
   ]
  },
  {
   "cell_type": "markdown",
   "id": "6922d005",
   "metadata": {},
   "source": [
    "Hugging Face Transformers is a library offering numerous pre-trained models primarily for natural language processing tasks, with easy-to-use interfaces and extensive documentation."
   ]
  },
  {
   "cell_type": "markdown",
   "id": "c70f7513",
   "metadata": {},
   "source": [
    "Examples from https://www.youtube.com/watch?v=QEaBAZQCtwE"
   ]
  },
  {
   "cell_type": "markdown",
   "id": "98664aa5",
   "metadata": {},
   "source": [
    "## imports"
   ]
  },
  {
   "cell_type": "code",
   "execution_count": 28,
   "id": "2cc46755",
   "metadata": {},
   "outputs": [],
   "source": [
    "from transformers import pipeline\n",
    "from transformers import AutoTokenizer, AutoModelForSequenceClassification"
   ]
  },
  {
   "cell_type": "markdown",
   "id": "ba6779cd",
   "metadata": {},
   "source": [
    "## 1. load a model and do a simple sentiment classification"
   ]
  },
  {
   "cell_type": "code",
   "execution_count": 24,
   "id": "d70e220b",
   "metadata": {},
   "outputs": [
    {
     "name": "stderr",
     "output_type": "stream",
     "text": [
      "No model was supplied, defaulted to distilbert-base-uncased-finetuned-sst-2-english and revision af0f99b (https://huggingface.co/distilbert-base-uncased-finetuned-sst-2-english).\n",
      "Using a pipeline without specifying a model name and revision in production is not recommended.\n"
     ]
    }
   ],
   "source": [
    "c = pipeline(\"sentiment-analysis\")"
   ]
  },
  {
   "cell_type": "code",
   "execution_count": 67,
   "id": "b5e095af",
   "metadata": {},
   "outputs": [
    {
     "data": {
      "text/plain": [
       "[{'label': 'NEGATIVE', 'score': 0.9996582269668579}]"
      ]
     },
     "execution_count": 67,
     "metadata": {},
     "output_type": "execute_result"
    }
   ],
   "source": [
    "s = \"getting started with hugging face in 5 minutes is a nightmare\"\n",
    "t = \"getting started with hugging face with pytorch is awesome\"\n",
    "r = c(s)\n",
    "r"
   ]
  },
  {
   "cell_type": "markdown",
   "id": "5706ae42",
   "metadata": {},
   "source": [
    "## 2. using generator with params and a specific model2. "
   ]
  },
  {
   "cell_type": "markdown",
   "id": "4cbdde94",
   "metadata": {},
   "source": [
    "Generate two alternative examples of text."
   ]
  },
  {
   "cell_type": "code",
   "execution_count": 26,
   "id": "09bd3a62",
   "metadata": {},
   "outputs": [
    {
     "name": "stderr",
     "output_type": "stream",
     "text": [
      "Setting `pad_token_id` to `eos_token_id`:50256 for open-end generation.\n"
     ]
    },
    {
     "data": {
      "text/plain": [
       "[{'generated_text': 'getting started with hugging face in 5 minutes is a nightmare.\\n\\n\\nSo did this guy at the back of this post at all?! I have'},\n",
       " {'generated_text': 'getting started with hugging face in 5 minutes is a nightmare for some. It was also a very effective way to help those who needed a calm, self'}]"
      ]
     },
     "execution_count": 26,
     "metadata": {},
     "output_type": "execute_result"
    }
   ],
   "source": [
    "generator = pipeline(\"text-generation\", model=\"distilgpt2\")\n",
    "r = generator(s, max_length=30, num_return_sequences=2)\n",
    "r"
   ]
  },
  {
   "cell_type": "markdown",
   "id": "5abf485f",
   "metadata": {},
   "source": [
    "## 3. using generator with a zero shot classsifier"
   ]
  },
  {
   "cell_type": "code",
   "execution_count": 27,
   "id": "0008e9fb",
   "metadata": {},
   "outputs": [
    {
     "name": "stderr",
     "output_type": "stream",
     "text": [
      "No model was supplied, defaulted to facebook/bart-large-mnli and revision c626438 (https://huggingface.co/facebook/bart-large-mnli).\n",
      "Using a pipeline without specifying a model name and revision in production is not recommended.\n"
     ]
    },
    {
     "data": {
      "text/plain": [
       "{'sequence': 'getting started with hugging face in 5 minutes is a nightmare',\n",
       " 'labels': ['education', 'skateboarding', 'politics'],\n",
       " 'scores': [0.5417985916137695, 0.23624803125858307, 0.22195343673229218]}"
      ]
     },
     "execution_count": 27,
     "metadata": {},
     "output_type": "execute_result"
    }
   ],
   "source": [
    "c = pipeline(\"zero-shot-classification\")\n",
    "r = c(s,\n",
    "      candidate_labels=[\"education\", \"politics\", \"skateboarding\"])\n",
    "r"
   ]
  },
  {
   "cell_type": "markdown",
   "id": "8f816d5f",
   "metadata": {},
   "source": [
    "## 4. Digging into Pipelines\n"
   ]
  },
  {
   "cell_type": "markdown",
   "id": "a54d8e7b",
   "metadata": {},
   "source": [
    "This section shows how to specify specific models and tokenizers"
   ]
  },
  {
   "cell_type": "code",
   "execution_count": 30,
   "id": "2be82cb1",
   "metadata": {},
   "outputs": [],
   "source": [
    "model_name = \"distilbert-base-uncased-finetuned-sst-2-english\""
   ]
  },
  {
   "cell_type": "code",
   "execution_count": 31,
   "id": "b9dec89b",
   "metadata": {},
   "outputs": [],
   "source": [
    "model = AutoModelForSequenceClassification.from_pretrained(model_name)"
   ]
  },
  {
   "cell_type": "code",
   "execution_count": 32,
   "id": "10f30491",
   "metadata": {},
   "outputs": [],
   "source": [
    "tokenizer = AutoTokenizer.from_pretrained(model_name)"
   ]
  },
  {
   "cell_type": "code",
   "execution_count": 36,
   "id": "92d864fd",
   "metadata": {},
   "outputs": [
    {
     "data": {
      "text/plain": [
       "[{'label': 'NEGATIVE', 'score': 0.9996582269668579}]"
      ]
     },
     "execution_count": 36,
     "metadata": {},
     "output_type": "execute_result"
    }
   ],
   "source": [
    "c = pipeline(\"sentiment-analysis\", model=model, tokenizer=tokenizer)\n",
    "c(s)"
   ]
  },
  {
   "cell_type": "markdown",
   "id": "22961f76",
   "metadata": {},
   "source": [
    "print out the tokens"
   ]
  },
  {
   "cell_type": "code",
   "execution_count": 49,
   "id": "5cc1f7d9",
   "metadata": {},
   "outputs": [
    {
     "data": {
      "text/plain": [
       "{'input_ids': [101, 2893, 2318, 2007, 17662, 2227, 1999, 1019, 2781, 2003, 1037, 10103, 102], 'attention_mask': [1, 1, 1, 1, 1, 1, 1, 1, 1, 1, 1, 1, 1]}"
      ]
     },
     "execution_count": 49,
     "metadata": {},
     "output_type": "execute_result"
    }
   ],
   "source": [
    "tokenizer(s)"
   ]
  },
  {
   "cell_type": "code",
   "execution_count": 51,
   "id": "8a9a287b",
   "metadata": {},
   "outputs": [
    {
     "data": {
      "text/plain": [
       "['getting',\n",
       " 'started',\n",
       " 'with',\n",
       " 'hugging',\n",
       " 'face',\n",
       " 'in',\n",
       " '5',\n",
       " 'minutes',\n",
       " 'is',\n",
       " 'a',\n",
       " 'nightmare']"
      ]
     },
     "execution_count": 51,
     "metadata": {},
     "output_type": "execute_result"
    }
   ],
   "source": [
    "tokens = tokenizer.tokenize(s)\n",
    "tokens"
   ]
  },
  {
   "cell_type": "markdown",
   "id": "a48f86dc",
   "metadata": {},
   "source": [
    "print out the ids"
   ]
  },
  {
   "cell_type": "code",
   "execution_count": 52,
   "id": "f772630b",
   "metadata": {},
   "outputs": [
    {
     "data": {
      "text/plain": [
       "[2893, 2318, 2007, 17662, 2227, 1999, 1019, 2781, 2003, 1037, 10103]"
      ]
     },
     "execution_count": 52,
     "metadata": {},
     "output_type": "execute_result"
    }
   ],
   "source": [
    "ids = tokenizer.convert_tokens_to_ids(tokens)\n",
    "ids"
   ]
  },
  {
   "cell_type": "code",
   "execution_count": 53,
   "id": "ed9ffa8d",
   "metadata": {},
   "outputs": [
    {
     "data": {
      "text/plain": [
       "'getting started with hugging face in 5 minutes is a nightmare'"
      ]
     },
     "execution_count": 53,
     "metadata": {},
     "output_type": "execute_result"
    }
   ],
   "source": [
    "decoded_string = tokenizer.decode(ids)\n",
    "decoded_string"
   ]
  },
  {
   "cell_type": "markdown",
   "id": "940a331e",
   "metadata": {},
   "source": [
    "## 5.  Using Transformers with pyTorch"
   ]
  },
  {
   "cell_type": "code",
   "execution_count": 55,
   "id": "ede505d2",
   "metadata": {},
   "outputs": [],
   "source": [
    "import torch\n",
    "import torch.nn.functional as F"
   ]
  },
  {
   "cell_type": "code",
   "execution_count": 59,
   "id": "7e01b95a",
   "metadata": {},
   "outputs": [],
   "source": [
    "model = AutoModelForSequenceClassification.from_pretrained(model_name)\n",
    "tokenizer = AutoTokenizer.from_pretrained(model_name)"
   ]
  },
  {
   "cell_type": "code",
   "execution_count": 60,
   "id": "cdb90d30",
   "metadata": {},
   "outputs": [],
   "source": [
    "classifier = pipeline(\"sentiment-analysis\", model=model, tokenizer=tokenizer)"
   ]
  },
  {
   "cell_type": "code",
   "execution_count": 68,
   "id": "ffb4b0e8",
   "metadata": {},
   "outputs": [],
   "source": [
    "X_train = [s, t]"
   ]
  },
  {
   "cell_type": "code",
   "execution_count": 69,
   "id": "7a67b564",
   "metadata": {},
   "outputs": [
    {
     "data": {
      "text/plain": [
       "[{'label': 'NEGATIVE', 'score': 0.9996582269668579},\n",
       " {'label': 'POSITIVE', 'score': 0.9998277425765991}]"
      ]
     },
     "execution_count": 69,
     "metadata": {},
     "output_type": "execute_result"
    }
   ],
   "source": [
    "r = classifier(X_train)\n",
    "r"
   ]
  },
  {
   "cell_type": "code",
   "execution_count": 70,
   "id": "48b140bb",
   "metadata": {},
   "outputs": [],
   "source": [
    "batch = tokenizer(X_train,\n",
    "                 padding=True,\n",
    "                 truncation=True,\n",
    "                 max_length=512,\n",
    "                 return_tensors=\"pt\")"
   ]
  },
  {
   "cell_type": "code",
   "execution_count": 72,
   "id": "66a17377",
   "metadata": {},
   "outputs": [
    {
     "data": {
      "text/plain": [
       "(tensor([[9.9966e-01, 3.4176e-04],\n",
       "         [1.7227e-04, 9.9983e-01]]),\n",
       " tensor([0, 1]))"
      ]
     },
     "execution_count": 72,
     "metadata": {},
     "output_type": "execute_result"
    }
   ],
   "source": [
    "with torch.no_grad():\n",
    "    outputs = model(**batch)\n",
    "    predictions = F.softmax(outputs.logits, dim=1)\n",
    "    labels = torch.argmax(predictions, dim=1)\n",
    "(predictions, labels)"
   ]
  },
  {
   "cell_type": "markdown",
   "id": "14df9d56",
   "metadata": {},
   "source": [
    "## 6. Working locally by saving models"
   ]
  },
  {
   "cell_type": "code",
   "execution_count": 73,
   "id": "1771bc88",
   "metadata": {},
   "outputs": [],
   "source": [
    "d = './hf_models'\n",
    "tokenizer.save_pretrained(d)\n",
    "model.save_pretrained(d)"
   ]
  },
  {
   "cell_type": "code",
   "execution_count": 74,
   "id": "7a60c288",
   "metadata": {},
   "outputs": [],
   "source": [
    "local_tokenizer = AutoTokenizer.from_pretrained(d)\n",
    "local_model = AutoModelForSequenceClassification.from_pretrained(d)"
   ]
  },
  {
   "cell_type": "markdown",
   "id": "637231f1",
   "metadata": {},
   "source": [
    "## 7. Using Models from ModelHub "
   ]
  },
  {
   "cell_type": "markdown",
   "id": "d7ba7673",
   "metadata": {},
   "source": [
    "Try usnig a model from the hub e.g https://huggingface.co/facebook/bart-large-cnn"
   ]
  },
  {
   "cell_type": "code",
   "execution_count": 76,
   "id": "1a87b51b",
   "metadata": {},
   "outputs": [],
   "source": [
    "model_name = \"facebook/bart-large-cnn\""
   ]
  },
  {
   "cell_type": "code",
   "execution_count": 80,
   "id": "cadca430",
   "metadata": {},
   "outputs": [
    {
     "data": {
      "application/vnd.jupyter.widget-view+json": {
       "model_id": "b6288edf06af4836b8ba3f52d09d399f",
       "version_major": 2,
       "version_minor": 0
      },
      "text/plain": [
       "config.json:   0%|          | 0.00/1.58k [00:00<?, ?B/s]"
      ]
     },
     "metadata": {},
     "output_type": "display_data"
    },
    {
     "data": {
      "application/vnd.jupyter.widget-view+json": {
       "model_id": "94a837415d344658bc0815dd774ddb79",
       "version_major": 2,
       "version_minor": 0
      },
      "text/plain": [
       "model.safetensors:   0%|          | 0.00/1.63G [00:00<?, ?B/s]"
      ]
     },
     "metadata": {},
     "output_type": "display_data"
    },
    {
     "data": {
      "application/vnd.jupyter.widget-view+json": {
       "model_id": "c6a5a1c72121457dbcfc66c3c92a07ba",
       "version_major": 2,
       "version_minor": 0
      },
      "text/plain": [
       "generation_config.json:   0%|          | 0.00/363 [00:00<?, ?B/s]"
      ]
     },
     "metadata": {},
     "output_type": "display_data"
    },
    {
     "data": {
      "application/vnd.jupyter.widget-view+json": {
       "model_id": "cba3304edf7441a28fed0225b3088258",
       "version_major": 2,
       "version_minor": 0
      },
      "text/plain": [
       "vocab.json:   0%|          | 0.00/899k [00:00<?, ?B/s]"
      ]
     },
     "metadata": {},
     "output_type": "display_data"
    },
    {
     "data": {
      "application/vnd.jupyter.widget-view+json": {
       "model_id": "3a675652039348b780f89982541db859",
       "version_major": 2,
       "version_minor": 0
      },
      "text/plain": [
       "merges.txt:   0%|          | 0.00/456k [00:00<?, ?B/s]"
      ]
     },
     "metadata": {},
     "output_type": "display_data"
    },
    {
     "data": {
      "application/vnd.jupyter.widget-view+json": {
       "model_id": "d15c0e98608a446796f0890109bed2f4",
       "version_major": 2,
       "version_minor": 0
      },
      "text/plain": [
       "tokenizer.json:   0%|          | 0.00/1.36M [00:00<?, ?B/s]"
      ]
     },
     "metadata": {},
     "output_type": "display_data"
    }
   ],
   "source": [
    "summarizer = pipeline(\"summarization\", model=model_name)"
   ]
  },
  {
   "cell_type": "code",
   "execution_count": 79,
   "id": "dc9a08cb",
   "metadata": {},
   "outputs": [
    {
     "data": {
      "text/plain": [
       "\"Nijah Houston is an incredibly talented skateboarder, admired for his remarkable skills and dedication. His awe-inspiring performances consistently captivate audiences, showcasing his passion and commitment to the sport. Nijah's positive attitude and resilience make him a true inspiration and a role model in the skateboarding community.\""
      ]
     },
     "execution_count": 79,
     "metadata": {},
     "output_type": "execute_result"
    }
   ],
   "source": [
    "text = \"Nijah Houston is an incredibly talented skateboarder, admired for his remarkable skills and dedication. His awe-inspiring performances consistently captivate audiences, showcasing his passion and commitment to the sport. Nijah's positive attitude and resilience make him a true inspiration and a role model in the skateboarding community.\"\n",
    "text"
   ]
  },
  {
   "cell_type": "code",
   "execution_count": 84,
   "id": "3a6d8180",
   "metadata": {},
   "outputs": [
    {
     "data": {
      "text/plain": [
       "[{'summary_text': 'Nijah Houston is an incredibly talented skateboarder, admired for his remarkable skills and dedication. His positive attitude and resilience make him a true inspiration'}]"
      ]
     },
     "execution_count": 84,
     "metadata": {},
     "output_type": "execute_result"
    }
   ],
   "source": [
    "summarizer(text, max_leongth=32, min_length=16)"
   ]
  }
 ],
 "metadata": {
  "kernelspec": {
   "display_name": "Python 3 (ipykernel)",
   "language": "python",
   "name": "python3"
  },
  "language_info": {
   "codemirror_mode": {
    "name": "ipython",
    "version": 3
   },
   "file_extension": ".py",
   "mimetype": "text/x-python",
   "name": "python",
   "nbconvert_exporter": "python",
   "pygments_lexer": "ipython3",
   "version": "3.11.5"
  }
 },
 "nbformat": 4,
 "nbformat_minor": 5
}
